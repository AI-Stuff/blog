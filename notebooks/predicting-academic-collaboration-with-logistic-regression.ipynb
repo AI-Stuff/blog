{
 "cells": [
  {
   "cell_type": "markdown",
   "metadata": {},
   "source": [
    "In my [last post](/2019/06/multi-class-classification-with-logistic-regression-in-python/), we learned what Logistic Regression is, and how it can be used to classify flowers in the Iris Dataset. In this post we will see how Logistic Regression can be applied to social networks in order to predict future collaboration between researchers. As usual we'll start by importing a few libraries:"
   ]
  },
  {
   "cell_type": "code",
   "execution_count": 1,
   "metadata": {},
   "outputs": [],
   "source": [
    "%matplotlib inline\n",
    "import pandas as pd\n",
    "import numpy as np\n",
    "import networkx as nx\n",
    "import matplotlib.pyplot as plt\n",
    "import random, itertools, json\n",
    "plt.rcParams[\"figure.figsize\"] = (5, 3) # (w, h)\n",
    "plt.rcParams[\"figure.dpi\"] = 200"
   ]
  },
  {
   "cell_type": "markdown",
   "metadata": {},
   "source": [
    "## Data"
   ]
  },
  {
   "cell_type": "markdown",
   "metadata": {},
   "source": [
    "The [Microsoft Academic Graph](https://www.microsoft.com/en-us/research/project/microsoft-academic-graph/) (MAG) is a dataset of over 200 million papers. The dataset contains papers from thousands of conferences, journals, and institutions. The [Open Academic Society](https://www.openacademic.ai/) provides regular snapshots of the dataset on their website. For the purpose of this post, I will be using the first one million papers found in [`mag_papers_0.zip`](https://academicgraphv2.blob.core.windows.net/oag/mag/paper/mag_papers_0.zip). Let's take a look at the data:"
   ]
  },
  {
   "cell_type": "code",
   "execution_count": 2,
   "metadata": {},
   "outputs": [],
   "source": [
    "df = next(pd.read_json('mag_papers_0.txt', lines=True, chunksize=1_000_000))"
   ]
  },
  {
   "cell_type": "code",
   "execution_count": 3,
   "metadata": {},
   "outputs": [
    {
     "data": {
      "text/html": [
       "<div>\n",
       "<style scoped>\n",
       "    .dataframe tbody tr th:only-of-type {\n",
       "        vertical-align: middle;\n",
       "    }\n",
       "\n",
       "    .dataframe tbody tr th {\n",
       "        vertical-align: top;\n",
       "    }\n",
       "\n",
       "    .dataframe thead th {\n",
       "        text-align: right;\n",
       "    }\n",
       "</style>\n",
       "<table border=\"1\" class=\"dataframe\">\n",
       "  <thead>\n",
       "    <tr style=\"text-align: right;\">\n",
       "      <th></th>\n",
       "      <th>0</th>\n",
       "      <th>1</th>\n",
       "      <th>2</th>\n",
       "    </tr>\n",
       "  </thead>\n",
       "  <tbody>\n",
       "    <tr>\n",
       "      <th>authors</th>\n",
       "      <td>[{'name': 'Ronald P. Mason', 'id': '2105522006...</td>\n",
       "      <td>[{'name': '侯晓亮', 'id': '2400277081'}]</td>\n",
       "      <td>[{'name': '张冬梅', 'id': '2405201566'}]</td>\n",
       "    </tr>\n",
       "    <tr>\n",
       "      <th>doc_type</th>\n",
       "      <td>Journal</td>\n",
       "      <td></td>\n",
       "      <td></td>\n",
       "    </tr>\n",
       "    <tr>\n",
       "      <th>doi</th>\n",
       "      <td>10.1007/978-1-4684-5568-7_3</td>\n",
       "      <td>NaN</td>\n",
       "      <td>NaN</td>\n",
       "    </tr>\n",
       "    <tr>\n",
       "      <th>id</th>\n",
       "      <td>100000002</td>\n",
       "      <td>1000000047</td>\n",
       "      <td>1000000056</td>\n",
       "    </tr>\n",
       "    <tr>\n",
       "      <th>issue</th>\n",
       "      <td></td>\n",
       "      <td>6</td>\n",
       "      <td>5</td>\n",
       "    </tr>\n",
       "    <tr>\n",
       "      <th>n_citation</th>\n",
       "      <td>7</td>\n",
       "      <td>0</td>\n",
       "      <td>0</td>\n",
       "    </tr>\n",
       "    <tr>\n",
       "      <th>page_end</th>\n",
       "      <td>27</td>\n",
       "      <td>143</td>\n",
       "      <td>46</td>\n",
       "    </tr>\n",
       "    <tr>\n",
       "      <th>page_start</th>\n",
       "      <td>21</td>\n",
       "      <td>143</td>\n",
       "      <td>46</td>\n",
       "    </tr>\n",
       "    <tr>\n",
       "      <th>publisher</th>\n",
       "      <td>Springer, Boston, MA</td>\n",
       "      <td></td>\n",
       "      <td></td>\n",
       "    </tr>\n",
       "    <tr>\n",
       "      <th>title</th>\n",
       "      <td>Electron Spin Resonance Investigations of Oxyg...</td>\n",
       "      <td>建筑物地基沉降的灰色模型GM（1，1）预测法</td>\n",
       "      <td>“民情日记”消除干群“空心层”</td>\n",
       "    </tr>\n",
       "    <tr>\n",
       "      <th>venue</th>\n",
       "      <td>{'raw': 'Basic life sciences', 'id': '27556866...</td>\n",
       "      <td>{'raw': '安徽建筑'}</td>\n",
       "      <td>{'raw': '兵团工运'}</td>\n",
       "    </tr>\n",
       "    <tr>\n",
       "      <th>volume</th>\n",
       "      <td>49</td>\n",
       "      <td>13</td>\n",
       "      <td></td>\n",
       "    </tr>\n",
       "    <tr>\n",
       "      <th>year</th>\n",
       "      <td>1988</td>\n",
       "      <td>2006</td>\n",
       "      <td>2010</td>\n",
       "    </tr>\n",
       "  </tbody>\n",
       "</table>\n",
       "</div>"
      ],
      "text/plain": [
       "                                                            0  \\\n",
       "authors     [{'name': 'Ronald P. Mason', 'id': '2105522006...   \n",
       "doc_type                                              Journal   \n",
       "doi                               10.1007/978-1-4684-5568-7_3   \n",
       "id                                                  100000002   \n",
       "issue                                                           \n",
       "n_citation                                                  7   \n",
       "page_end                                                   27   \n",
       "page_start                                                 21   \n",
       "publisher                                Springer, Boston, MA   \n",
       "title       Electron Spin Resonance Investigations of Oxyg...   \n",
       "venue       {'raw': 'Basic life sciences', 'id': '27556866...   \n",
       "volume                                                     49   \n",
       "year                                                     1988   \n",
       "\n",
       "                                                1  \\\n",
       "authors     [{'name': '侯晓亮', 'id': '2400277081'}]   \n",
       "doc_type                                            \n",
       "doi                                           NaN   \n",
       "id                                     1000000047   \n",
       "issue                                           6   \n",
       "n_citation                                      0   \n",
       "page_end                                      143   \n",
       "page_start                                    143   \n",
       "publisher                                           \n",
       "title                      建筑物地基沉降的灰色模型GM（1，1）预测法   \n",
       "venue                             {'raw': '安徽建筑'}   \n",
       "volume                                         13   \n",
       "year                                         2006   \n",
       "\n",
       "                                                2  \n",
       "authors     [{'name': '张冬梅', 'id': '2405201566'}]  \n",
       "doc_type                                           \n",
       "doi                                           NaN  \n",
       "id                                     1000000056  \n",
       "issue                                           5  \n",
       "n_citation                                      0  \n",
       "page_end                                       46  \n",
       "page_start                                     46  \n",
       "publisher                                          \n",
       "title                             “民情日记”消除干群“空心层”  \n",
       "venue                             {'raw': '兵团工运'}  \n",
       "volume                                             \n",
       "year                                         2010  "
      ]
     },
     "execution_count": 3,
     "metadata": {},
     "output_type": "execute_result"
    }
   ],
   "source": [
    "df = df.dropna(subset=['year', 'authors'])\n",
    "df.head(n=3).transpose()"
   ]
  },
  {
   "cell_type": "markdown",
   "metadata": {},
   "source": [
    "We can see that, in addition to a bunch of other data, each paper has a list of `authors`, each with a unique id, and a `year` that the paper was published. Let's take a look at the histogram of years in our data:"
   ]
  },
  {
   "cell_type": "code",
   "execution_count": 4,
   "metadata": {},
   "outputs": [
    {
     "data": {
      "image/png": "[encoded data removed]",
      "text/plain": [
       "<Figure size 432x288 with 1 Axes>"
      ]
     },
     "metadata": {
      "needs_background": "light"
     },
     "output_type": "display_data"
    }
   ],
   "source": [
    "plt.hist(df[df['year'] > 1960]['year'], bins=20)\n",
    "plt.xlabel('Year'); plt.ylabel('Count');"
   ]
  },
  {
   "cell_type": "markdown",
   "metadata": {},
   "source": [
    "In order to create our model, we are going to form network graphs from the above data. Each `author` `id` will have its own node, and will share edges with any other author they have co-authored a paper with. We will split the data into three consecutive time frames: $T_0$, $T_1$ and $T_2$. The reason for splitting the data into time frames is so we can train a model to predict if any two authors that have not worked together in $T_n$ will become co-authors in $T _{n+1}$, using only information from $T_n$. Co-author pairs formed from $T_0$ to $T_1$ will be used to train the model, and co-author pairs formed from $T_1$ to $T_2$ will be used as the out-of-sample test set. As many of the papers in the data set have been published between 2000 and 2015, we will use $[2000, 2005)$, $[2005, 2010)$, and $[2010, 2015)$ as $T_0$, $T_1$ and $T_2$, respectively:"
   ]
  },
  {
   "cell_type": "code",
   "execution_count": 5,
   "metadata": {},
   "outputs": [],
   "source": [
    "time_ranges = [(2000, 2005), (2005, 2010), (2010, 2015)]"
   ]
  },
  {
   "cell_type": "markdown",
   "metadata": {},
   "source": [
    "We'll write a function to generate the network graphs from our data frame and time ranges:"
   ]
  },
  {
   "cell_type": "code",
   "execution_count": 6,
   "metadata": {},
   "outputs": [],
   "source": [
    "def data_to_graphs(df, time_ranges):\n",
    "    graphs = [nx.Graph() for _ in time_ranges]\n",
    "    for row in df.itertuples():\n",
    "        for t, time_range in enumerate(time_ranges):\n",
    "            if row.year >= time_range[0] and row.year < time_range[1]:\n",
    "                ids = [a['id'] for a in row.authors]\n",
    "                graphs[t].add_edges_from(itertools.combinations(ids, 2))\n",
    "    return graphs"
   ]
  },
  {
   "cell_type": "code",
   "execution_count": 7,
   "metadata": {},
   "outputs": [],
   "source": [
    "graphs = data_to_graphs(df, time_ranges)"
   ]
  },
  {
   "cell_type": "markdown",
   "metadata": {},
   "source": [
    "Just to take a look at what we have so far, we can draw the largest subcomponent of the first graph like so:"
   ]
  },
  {
   "cell_type": "code",
   "execution_count": 8,
   "metadata": {},
   "outputs": [
    {
     "name": "stderr",
     "output_type": "stream",
     "text": [
      "/usr/local/anaconda3/lib/python3.7/site-packages/networkx/drawing/nx_pylab.py:611: MatplotlibDeprecationWarning: isinstance(..., numbers.Number)\n",
      "  if cb.is_numlike(alpha):\n"
     ]
    },
    {
     "data": {
      "image/png": "[encoded data removed]",
      "text/plain": [
       "<Figure size 432x288 with 1 Axes>"
      ]
     },
     "metadata": {},
     "output_type": "display_data"
    }
   ],
   "source": [
    "gc = max(nx.connected_component_subgraphs(graphs[0]), key=len)\n",
    "nx.draw_spring(gc, node_size=20, alpha=0.3, node_color='b', edge_color='grey')\n",
    "plt.title(\"MAG 2000-2004 Largest Subgraph\");"
   ]
  },
  {
   "cell_type": "markdown",
   "metadata": {},
   "source": [
    "It is easy to see the clusters formed by large groups of authors that have worked together. We can also see more distant nodes that only have very few connections."
   ]
  },
  {
   "cell_type": "markdown",
   "metadata": {},
   "source": [
    "## Labeling"
   ]
  },
  {
   "cell_type": "markdown",
   "metadata": {},
   "source": [
    "Now that we have our network graphs, we can start creating our training and test sets. Each row in the sets will represent a pair of nodes that have not collaborated. The row will be assigned a positive label if the pair ends up collaborating in the next time period, and a negative label if they don't. Intuitively, there will be a much greater number of pairs with negative labels than positive, so we will randomly select a smaller subset of negative labels (equal to the number of positive labels found). We'll write two functions that help us extract positively and negatively labeled pairs:"
   ]
  },
  {
   "cell_type": "code",
   "execution_count": 9,
   "metadata": {},
   "outputs": [],
   "source": [
    "def positive_pairs(graph, next_graph):\n",
    "    pairs = set()\n",
    "    for pair in next_graph.edges:\n",
    "        if (\n",
    "            graph.has_node(pair[0])\n",
    "            and graph.has_node(pair[1])\n",
    "            and not graph.has_edge(*pair)\n",
    "        ):\n",
    "            pairs.add(pair)\n",
    "    return pairs\n",
    "\n",
    "def negative_pairs(graph, next_graph, n):\n",
    "    pairs = set()\n",
    "    while len(pairs) < n:\n",
    "        pair = tuple(random.sample(graph.nodes, 2))\n",
    "        if (\n",
    "            not graph.has_edge(*pair)\n",
    "            and not next_graph.has_edge(*pair)\n",
    "        ):\n",
    "            pairs.add(pair)\n",
    "    return pairs"
   ]
  },
  {
   "cell_type": "markdown",
   "metadata": {},
   "source": [
    "## Features"
   ]
  },
  {
   "cell_type": "markdown",
   "metadata": {},
   "source": [
    "Now that we know how our training and test sets will be labeled, we have to decide what other features we want each row of the sets to contain; that is, what indicators may we add that could help our model predict future collaboration? We will pick a few algorithms commonly used in social network analysis:"
   ]
  },
  {
   "cell_type": "markdown",
   "metadata": {},
   "source": [
    "### Common Neighbors"
   ]
  },
  {
   "cell_type": "markdown",
   "metadata": {},
   "source": [
    "Our first feature will simply be the number of neighbors that a given pair of nodes share. This can be represented mathematically like so:"
   ]
  },
  {
   "cell_type": "markdown",
   "metadata": {},
   "source": [
    "$$ | N(u) \\cap N(v) | $$"
   ]
  },
  {
   "cell_type": "markdown",
   "metadata": {},
   "source": [
    "Where $u$ and $v$ are both nodes, and $N(v)$ denotes the set the of all neighbors of node $v$. Common Neighbors was chosen as a feature under the assumption that two authors that share a large number of co-authors may have a higher chance of working together in the future."
   ]
  },
  {
   "cell_type": "markdown",
   "metadata": {},
   "source": [
    "### Jaccard Coefficient"
   ]
  },
  {
   "cell_type": "markdown",
   "metadata": {},
   "source": [
    "The [Jaccard Coefficient](https://en.wikipedia.org/wiki/Jaccard_index) measures similarity between two sets by dividing the size of the intersection by the size of the union. We will compute the Jaccard Coefficient of the neighbors of the two authors like so:"
   ]
  },
  {
   "cell_type": "markdown",
   "metadata": {},
   "source": [
    "$$ {| N(u) \\cap N(v) |}  \\over {| N(u) \\cup N(v) | }$$"
   ]
  },
  {
   "cell_type": "markdown",
   "metadata": {},
   "source": [
    "Two nodes that have a high Jaccard Coefficient have very similar neighbors, which might be a good indication for future collaboration."
   ]
  },
  {
   "cell_type": "markdown",
   "metadata": {},
   "source": [
    "### Resource Allocation Algorithm"
   ]
  },
  {
   "cell_type": "markdown",
   "metadata": {},
   "source": [
    "Introduced in 2009 by Tao Zhou, Linyuan Lu, and Yi-Cheng Zhang in [Predicting Missing Links via Local Information](https://arxiv.org/pdf/0901.0553.pdf), the Resource Allocation algorithm is defined as:"
   ]
  },
  {
   "cell_type": "markdown",
   "metadata": {},
   "source": [
    "$$ \\sum_{w \\in N(u) \\cap N(v)} {1 \\over |N(w)|}$$"
   ]
  },
  {
   "cell_type": "markdown",
   "metadata": {},
   "source": [
    "The idea behind the resource allocation algorithm is that if many of the common neighbors between $u$ and $v$ have a low number of neighbors themselves, any \"resources\" sent from $u$ have a high likelihood of making their way to $v$ and vice versa."
   ]
  },
  {
   "cell_type": "markdown",
   "metadata": {},
   "source": [
    "### Preferential Attachment"
   ]
  },
  {
   "cell_type": "markdown",
   "metadata": {},
   "source": [
    "Preferential Attachment is simply the product of the size of each node's neighbor set:"
   ]
  },
  {
   "cell_type": "markdown",
   "metadata": {},
   "source": [
    "$$ |N(u)||N(v)| $$"
   ]
  },
  {
   "cell_type": "markdown",
   "metadata": {},
   "source": [
    "Two nodes that both have high numbers of neighbors, regardless of their commonality, may have a greater chance of collaboration in the future."
   ]
  },
  {
   "cell_type": "markdown",
   "metadata": {},
   "source": [
    "## Generating Features"
   ]
  },
  {
   "cell_type": "markdown",
   "metadata": {},
   "source": [
    "Since the library we are using for network graph computation, [NetworkX](https://networkx.github.io/), has all of the above functions built in, we can generate all of our features for a given pair like so:"
   ]
  },
  {
   "cell_type": "code",
   "execution_count": 10,
   "metadata": {},
   "outputs": [],
   "source": [
    "def generate_features(graph, pair, label):\n",
    "    return {\n",
    "        \"common_neighbors\": len(list(nx.common_neighbors(graph, pair[0], pair[1]))),\n",
    "        \"jaccard_coefficient\": list(nx.jaccard_coefficient(graph, [pair]))[0][2],\n",
    "        \"resource_allocation\": list(nx.resource_allocation_index(graph, [pair]))[0][2],\n",
    "        \"preferential_attachment\": list(nx.preferential_attachment(graph, [pair]))[0][2],\n",
    "        \"label\": label,\n",
    "    }"
   ]
  },
  {
   "cell_type": "markdown",
   "metadata": {},
   "source": [
    "Now we have everything we need to create our training and test sets:"
   ]
  },
  {
   "cell_type": "code",
   "execution_count": 11,
   "metadata": {},
   "outputs": [],
   "source": [
    "def generate_set(graph, next_graph):\n",
    "    positives = [\n",
    "        generate_features(graph, pair, 1)\n",
    "        for pair in positive_pairs(graph, next_graph)\n",
    "    ]\n",
    "    negatives = [\n",
    "        generate_features(graph, pair, 0)\n",
    "        for pair in negative_pairs(graph, next_graph, len(positives))\n",
    "    ]\n",
    "    return pd.DataFrame(positives + negatives)"
   ]
  },
  {
   "cell_type": "code",
   "execution_count": null,
   "metadata": {},
   "outputs": [],
   "source": [
    "df_train = generate_set(graphs[0], graphs[1])\n",
    "df_test = generate_set(graphs[1], graphs[2])"
   ]
  },
  {
   "cell_type": "markdown",
   "metadata": {},
   "source": [
    "Let's look at the training set:"
   ]
  },
  {
   "cell_type": "code",
   "execution_count": null,
   "metadata": {},
   "outputs": [],
   "source": [
    "df_train.head()"
   ]
  },
  {
   "cell_type": "markdown",
   "metadata": {},
   "source": [
    "We can see that, as expected, each row has a label, and all of the features we wanted. Now we're ready to train!"
   ]
  },
  {
   "cell_type": "markdown",
   "metadata": {},
   "source": [
    "## Logistic Regression Model"
   ]
  },
  {
   "cell_type": "markdown",
   "metadata": {},
   "source": [
    "We'll start by splitting our datasets into inputs and labels:"
   ]
  },
  {
   "cell_type": "code",
   "execution_count": null,
   "metadata": {},
   "outputs": [],
   "source": [
    "X_train, y_train = df_train.drop(columns=[\"label\"]), df_train[\"label\"]\n",
    "X_test, y_test = df_test.drop(columns=[\"label\"]), df_test[\"label\"]"
   ]
  },
  {
   "cell_type": "markdown",
   "metadata": {},
   "source": [
    "Just like in the last post, we'll have to normalize the data so it works well with logistic regression:"
   ]
  },
  {
   "cell_type": "code",
   "execution_count": null,
   "metadata": {},
   "outputs": [],
   "source": [
    "mean = X_train.mean()\n",
    "std = X_train.std()\n",
    "\n",
    "X_train = (X_train - mean) / std\n",
    "X_test = (X_test - mean) / std"
   ]
  },
  {
   "cell_type": "markdown",
   "metadata": {},
   "source": [
    "Now we could use the logistic regression code I wrote in my [last post](/2019/06/multi-class-classification-with-logistic-regression-in-python/), but the [scikit-learn](https://scikit-learn.org/stable/) library has an implementation that is slightly more efficient, which will be much faster on our large dataset. Here is how we can use it to fit a model to our training data:"
   ]
  },
  {
   "cell_type": "code",
   "execution_count": null,
   "metadata": {},
   "outputs": [],
   "source": [
    "from sklearn.linear_model import LogisticRegression\n",
    "\n",
    "model = LogisticRegression(solver='lbfgs')\n",
    "model.fit(X_train, y_train);"
   ]
  },
  {
   "cell_type": "markdown",
   "metadata": {},
   "source": [
    "Now that we have the model fit, we can check the mean accuracy with our test set:"
   ]
  },
  {
   "cell_type": "code",
   "execution_count": null,
   "metadata": {},
   "outputs": [],
   "source": [
    "print(f\"Test Accuracy: {model.score(X_test, y_test):.4f}\")"
   ]
  },
  {
   "cell_type": "markdown",
   "metadata": {},
   "source": [
    "## Area Under the Curve"
   ]
  },
  {
   "cell_type": "markdown",
   "metadata": {},
   "source": [
    "Although the model seems to have an almost 94% accuracy in the test set, accuracy is not best metric to use. Both our training and test sets are balanced with an equal number of negative and positive samples, which means that a model predicting positive every time would still have an accuracy of 50%. A better measure of performance of a classification model is known as Area Under the Receiver Operating Characteristics, or AUROC."
   ]
  },
  {
   "cell_type": "markdown",
   "metadata": {},
   "source": [
    "### Receiver Operating Characteristics"
   ]
  },
  {
   "cell_type": "markdown",
   "metadata": {},
   "source": [
    "The [Receiver Operating Characteristics](https://en.wikipedia.org/wiki/Receiver_operating_characteristic) (ROC) curve is measure of a binary classifier's ability to distinguish classes. The ROC curve drawn by plotting the True Positive Rate (TPR) against the False Positive Rate (FPR), each defined below, at different thresholds."
   ]
  },
  {
   "cell_type": "markdown",
   "metadata": {},
   "source": [
    "$$TPR = {TP \\over TP + FN}$$"
   ]
  },
  {
   "cell_type": "markdown",
   "metadata": {},
   "source": [
    "$$FPR = { TN \\over TN + FP }$$"
   ]
  },
  {
   "cell_type": "markdown",
   "metadata": {},
   "source": [
    "Where $TP$, $FN$, $TN$, $FP$ are the number of True Positives, False Negatives, True Negatives, and False Positives respectively."
   ]
  },
  {
   "cell_type": "markdown",
   "metadata": {},
   "source": [
    "Measuring the area under the ROC curve gives an indicator of how well the model can separating positive and negative classifications. An Area Under the Curve (AUC) of 1 means the model can correctly predict the classification every time, while an AUC of 0.5 means the model cannot at all distinguish between positive and negative classes. For more on the AUROC curve, be sure to check out this excellent [blog post](https://towardsdatascience.com/understanding-auc-roc-curve-68b2303cc9c5)."
   ]
  },
  {
   "cell_type": "markdown",
   "metadata": {},
   "source": [
    "We can plot our ROC curve using scikit-learn like so:"
   ]
  },
  {
   "cell_type": "code",
   "execution_count": null,
   "metadata": {},
   "outputs": [],
   "source": [
    "from sklearn.metrics import roc_curve, auc\n",
    "y_score = model.decision_function(X_test)\n",
    "fpr, tpr, _ = roc_curve(y_test, y_score)\n",
    "plt.plot([0, 1], [0, 1], linestyle='--')\n",
    "plt.plot(fpr, tpr, label=f\"ROC curve (area = {auc(fpr, tpr):.3f})\")\n",
    "plt.xlabel('False Positive Rate'); plt.ylabel('True Positive Rate')\n",
    "plt.title('Receiver Operating Characteristics'); plt.legend();"
   ]
  },
  {
   "cell_type": "markdown",
   "metadata": {},
   "source": [
    "## Conclusion"
   ]
  },
  {
   "cell_type": "markdown",
   "metadata": {},
   "source": [
    "By using our trained model on data collected from 2005 to 2009, we were able to predict whether a pair of authors would become co-authors in 2010 to 2014 with an AUC of 0.98! A model like this could be used as an application to suggest researchers to work with in the future. In addition, similar techniques could be used across different social networks to suggest friends on Facebook, or connections on LinkedIn, etc."
   ]
  },
  {
   "cell_type": "markdown",
   "metadata": {},
   "source": [
    "There are also a number of ways the above model could be improved. All of the features currently being used are based off of neighbors of nodes formed by co-authorship. More features could be added relating to common paper topics or institutions. In addition, the logistic regression model could be replaced with [support-vector machines](https://en.wikipedia.org/wiki/Support-vector_machine), or a neural network to improve accuracy."
   ]
  },
  {
   "cell_type": "markdown",
   "metadata": {},
   "source": [
    "If you liked this article, be sure to follow [@teddykoker](https://twitter.com/teddykoker), and check out my other [machine learning](/tags/machine-learning/) articles."
   ]
  }
 ],
 "metadata": {
  "kernelspec": {
   "display_name": "Python 3",
   "language": "python",
   "name": "python3"
  },
  "language_info": {
   "codemirror_mode": {
    "name": "ipython",
    "version": 3
   },
   "file_extension": ".py",
   "mimetype": "text/x-python",
   "name": "python",
   "nbconvert_exporter": "python",
   "pygments_lexer": "ipython3",
   "version": "3.7.3"
  }
 },
 "nbformat": 4,
 "nbformat_minor": 2
}
