{
 "cells": [
  {
   "cell_type": "markdown",
   "metadata": {},
   "source": [
    "In some of my previous strategies, I have noted that the backtest did not account for survivorship bias. [Survivorship bias](https://en.wikipedia.org/wiki/Survivorship_bias) is a form of selection bias caused by only focusing on assets that passed some sort of selection process."
   ]
  },
  {
   "cell_type": "markdown",
   "metadata": {},
   "source": [
    "A simple example would be a strategy that simply buys and holds an equal allocation of the current S&P 500 constituents. We can use the S&P 500 data from a [previous post](/2019/04/backtesting-a-cross-sectional-mean-reversion-strategy-in-python). We can then compare the performance of this strategy to that of RSP, an ETF that tracks the S&P 500 Equal Weight Index: "
   ]
  },
  {
   "cell_type": "code",
   "execution_count": 22,
   "metadata": {},
   "outputs": [
    {
     "data": {
      "image/png": "[encoded data removed]",
      "text/plain": [
       "<Figure size 432x288 with 1 Axes>"
      ]
     },
     "metadata": {
      "needs_background": "light"
     },
     "output_type": "display_data"
    }
   ],
   "source": [
    "import pandas as pd\n",
    "import pandas_datareader.data as web\n",
    "%matplotlib inline\n",
    "\n",
    "tickers = pd.read_csv('spy/tickers.csv', header=None)[1].tolist()\n",
    "\n",
    "# calculate cumulative product of the mean of all daily returns\n",
    "# i.e. simulate growth of $1 by equally weighting all current S&P 500\n",
    "# constituents\n",
    "sim_rsp = (\n",
    "    (pd.concat(\n",
    "        [pd.read_csv(f\"spy/{ticker}.csv\", index_col='date', parse_dates=True)[\n",
    "            'close'\n",
    "        ].pct_change()\n",
    "        for ticker in tickers],\n",
    "        axis=1,\n",
    "        sort=True,\n",
    "    ).mean(axis=1, skipna=True) + 1)\n",
    "    .cumprod()\n",
    "    .rename(\"SIM\")\n",
    ")\n",
    "\n",
    "# download actual RSP data\n",
    "rsp = (\n",
    "    (web.DataReader(\"RSP\", \"yahoo\", sim_rsp.index[0], sim_rsp.index[-1])[\n",
    "        \"Adj Close\"\n",
    "    ].pct_change() + 0.002 / 252 + 1)  # 0.20% annual ER\n",
    "    .cumprod()\n",
    "    .rename(\"RSP\")\n",
    ")\n",
    "\n",
    "sim_rsp.plot(legend=True, title=\"RSP vs. Survivorship-Biased Strategy\")\n",
    "rsp.plot(legend=True);"
   ]
  },
  {
   "cell_type": "markdown",
   "metadata": {},
   "source": [
    "Wow! If we started trading this strategy in 2014 we would have easily beat the market. We only need to know the constituents of the S&P 500 5 years in the future... This simple example shows how a trader can be tricked into thinking they have a good strategy because they have not accounted for selection bias."
   ]
  },
  {
   "cell_type": "markdown",
   "metadata": {},
   "source": [
    "# Survivorship Bias-Free Data"
   ]
  },
  {
   "cell_type": "markdown",
   "metadata": {},
   "source": [
    "How do we prevent survivorship bias? It is easier said then done. In order to create a survivorship bias free data set of the S&P 500, we have to first know all of the historical constituents of the S&P 500 across our desired timeframe. Once we know all the constituents we can piece together a dataset using the historical price data of all the constituents during the time period they were in the S&P 500."
   ]
  },
  {
   "cell_type": "markdown",
   "metadata": {},
   "source": [
    "Unfortunately their are a few road blocks that make this data collection more difficult than one might expect. First of all, obtaining historical constituent data for the S&P 500 is hard. Current constituents can be scraped from [Wikipedia](https://en.wikipedia.org/wiki/List_of_S%26P_500_companies), but finding historical constituents is near impossible without buying data. Second, once you know the historical constituents, finding pricing data can be difficult as well. Companies in the S&P 500 are continuously being renamed, being acquired, and some even going bankrupt. Free data sources like [Yahoo Finance](https://finance.yahoo.com/) usually do not have data on delisted stocks, historical ticker name changes are not well documented.  "
   ]
  },
  {
   "cell_type": "markdown",
   "metadata": {},
   "source": [
    "## Data Sources"
   ]
  },
  {
   "cell_type": "markdown",
   "metadata": {},
   "source": [
    "### Constituents"
   ]
  },
  {
   "cell_type": "markdown",
   "metadata": {},
   "source": [
    "While we don't have real historical constituent data, we can make a close approximation using the portfolio of an S&P 500 tracking ETF. The [iShares Core S&P 500 ETF (IVV)](https://www.ishares.com/us/products/239726/) discloses its holdings every month, and claims to invest at least 90% of its assets in securities in the index. With a little web scraping we can easily get its monthly holdings since 2006:"
   ]
  },
  {
   "cell_type": "code",
   "execution_count": 43,
   "metadata": {},
   "outputs": [
    {
     "data": {
      "text/plain": [
       "2006-09-29    [(PMCS, PMC-SIERRA INC.), (ANDW, ANDREW CORP.)...\n",
       "2006-10-31    [(PMCS, PMC-SIERRA INC.), (PGL, PEOPLES ENERGY...\n",
       "2006-11-30    [(PMCS, PMC-SIERRA INC.), (ADCT, ADC TELECOMMU...\n",
       "2006-12-29    [(PMCS, PMC-SIERRA INC.), (ADCT, ADC TELECOMMU...\n",
       "2007-01-31    [(PMCS, PMC-SIERRA INC.), (PGL, PEOPLES ENERGY...\n",
       "dtype: object"
      ]
     },
     "execution_count": 43,
     "metadata": {},
     "output_type": "execute_result"
    }
   ],
   "source": [
    "import requests\n",
    "from bs4 import BeautifulSoup\n",
    "from datetime import datetime, timedelta\n",
    "import json\n",
    "\n",
    "# request page\n",
    "html = requests.get(\"https://www.ishares.com/us/products/239726/#tabsAll\").content\n",
    "soup = BeautifulSoup(html)\n",
    "\n",
    "# find available dates\n",
    "holdings = soup.find(\"div\", {\"id\": \"holdings\"})\n",
    "dates_div = holdings.find_all(\"div\", \"component-date-list\")[1]\n",
    "dates_div.find_all(\"option\")\n",
    "dates = [option.attrs[\"value\"] for option in date_list_div.find_all(\"option\")]\n",
    "\n",
    "# download constituents for each date\n",
    "constituents = pd.Series()\n",
    "for date in dates:\n",
    "    resp = requests.get(\n",
    "        f\"https://www.ishares.com/us/products/239726/ishares-core-sp-500-etf/1467271812596.ajax?tab=all&fileType=json&asOfDate={date}\"\n",
    "    ).content[3:]\n",
    "    tickers = json.loads(resp)\n",
    "    tickers = [(arr[0], arr[1]) for arr in tickers['aaData']]\n",
    "    date = datetime.strptime(date, \"%Y%m%d\")\n",
    "    constituents[date] = tickers\n",
    "\n",
    "constituents = constituents.iloc[::-1] # reverse into cronlogical order\n",
    "constituents.head()"
   ]
  },
  {
   "cell_type": "markdown",
   "metadata": {},
   "source": [
    "As we can see for each month (only 5 shown) we have a list of all tickers and company names held in the ETF. Now that thats done we can move on to the price data."
   ]
  },
  {
   "cell_type": "markdown",
   "metadata": {},
   "source": [
    "### Price Data"
   ]
  },
  {
   "cell_type": "markdown",
   "metadata": {},
   "source": [
    "As mentioned earlier, finding data for all of the constituents can be difficult. Lucky for us, Quandl's [WIKI Prices Dataset](https://www.quandl.com/databases/WIKIP/documentation) contains *most* of the data we need. Though the data feed is no longer updated, it still contains accurate data from before April 2018. We can export the data [here](https://www.quandl.com/databases/WIKIP/usage/export) after creating a free account. After we download it we can separate the data by ticker."
   ]
  },
  {
   "cell_type": "code",
   "execution_count": 28,
   "metadata": {},
   "outputs": [],
   "source": [
    "wiki = pd.read_csv(\"WIKI_PRICES.csv\", parse_dates=True)\n",
    "wiki = dict(tuple(wiki.groupby('ticker')))\n",
    "for ticker in wiki:\n",
    "    wiki[ticker].set_index(\"date\", inplace=True)"
   ]
  },
  {
   "cell_type": "markdown",
   "metadata": {},
   "source": [
    "Although the WIKI dataset has most of the data we need, it does not have all of it. We will use Yahoo finance to download the remaining data. Lets write some helper functions to help us download the data:"
   ]
  },
  {
   "cell_type": "code",
   "execution_count": 47,
   "metadata": {},
   "outputs": [],
   "source": [
    "import time\n",
    "import re\n",
    "\n",
    "def quandl_data(ticker, start, end):\n",
    "    if ticker in wiki:\n",
    "        df = wiki[ticker][start:end]\n",
    "    else:\n",
    "        ticker = fix_ticker(ticker)\n",
    "        if ticker in wiki:\n",
    "            df = wiki[ticker][start:end]\n",
    "        else:\n",
    "            return None\n",
    "    df = df.drop(['open','high','low','close', 'volume','ex-dividend','split_ratio', 'ticker'], axis=1)\n",
    "    df = df.rename(index=str, columns={\"adj_open\": \"open\",\n",
    "                                       \"adj_high\": \"high\",\n",
    "                                       \"adj_low\": \"low\",\n",
    "                                       \"adj_close\": \"close\",\n",
    "                                       \"adj_volume\": \"volume\"})\n",
    "    return df\n",
    "\n",
    "def yahoo_data(ticker, start, end):\n",
    "    ticker = fix_ticker(ticker)\n",
    "    try:\n",
    "        df = web.DataReader(ticker, \"yahoo\", start, end)\n",
    "    except:\n",
    "        time.sleep(1)\n",
    "        try:\n",
    "            df = web.DataReader(ticker, \"yahoo\", start, end)\n",
    "        except:\n",
    "            return None\n",
    "    # adjust ohlc using adj close\n",
    "    adjfactor = df[\"Close\"] / df[\"Adj Close\"]\n",
    "    df[\"Open\"] /= adjfactor\n",
    "    df[\"High\"] /= adjfactor\n",
    "    df[\"Low\"] /= adjfactor\n",
    "    df[\"Close\"] = df[\"Adj Close\"]\n",
    "    df[\"Volume\"] *= adjfactor\n",
    "    df = df.drop([\"Adj Close\"], axis=1)\n",
    "    df = df.rename(str.lower, axis='columns')\n",
    "    df.index.rename('date', inplace=True)\n",
    "    return df\n",
    "\n",
    "def fix_ticker(ticker):\n",
    "    rename_table = {\n",
    "        \"-\": \"LPRAX\", # BlackRock LifePath Dynamic Retirement Fund\n",
    "        \"8686\": \"AFL\", # AFLAC\n",
    "        \"4XS\": \"ESRX\", # Express Scripts Holding Company \n",
    "        \"AAZ\": \"APC\", # Anadarko Petroleum Corporation\n",
    "        \"AG4\": \"AGN\", # Allergan plc\n",
    "        \"BFB\": \"BF_B\", # Brown-Forman Corporation\n",
    "        \"BF.B\": \"BF_B\", # Brown-Forman Corporation\n",
    "        \"BF/B\": \"BF_B\", # Brown-Forman Corporation\n",
    "        \"BLD WI\": \"BLD\", # TopBuild Corp.\n",
    "        \"BRKB\": \"BRK_B\", # Berkshire Hathaway Inc.\n",
    "        \"CC WI\": \"CC\", # The Chemours Company\n",
    "        \"DC7\": \"DFS\", # Discover Financial Services\n",
    "        \"GGQ7\": \"GOOG\", # Alphabet Inc. Class C\n",
    "        \"HNZ\": \"KHC\", # The Kraft Heinz Company\n",
    "        \"LOM\": \"LMT\", # Lockheed Martin Corp.\n",
    "        \"LTD\": \"LB\", # L Brands Inc.\n",
    "        \"LTR\": \"L\", # Loews Corporation\n",
    "        \"MPN\": \"MPC\", # Marathon Petroleum Corp.\n",
    "        \"MWZ\": \"MET\", # Metlife Inc.\n",
    "        \"MX4A\": \"CME\", # CME Group Inc.\n",
    "        \"NCRA\": \"NWSA\", # News Corporation\n",
    "        \"NTH\": \"NOC\", # Northrop Grumman Crop.\n",
    "        \"PA9\": \"TRV\", # The Travelers Companies, Inc.\n",
    "        \"QCI\": \"QCOM\", # Qualcomm Inc.\n",
    "        \"RN7\": \"RF\", # Regions Financial Corp\n",
    "        \"SLBA\": \"SLB\", # Schlumberger Limited\n",
    "        \"SYF-W\": \"SYF\", # Synchrony Financial\n",
    "        \"SWG\": \"SCHW\", # The Charles Schwab Corporation \n",
    "        \"UAC/C\": \"UAA\", # Under Armour Inc Class A\n",
    "        \"UBSFT\": \"UBSFY\", # Ubisoft Entertainment\n",
    "        \"USX1\": \"X\", # United States Steel Corporation\n",
    "        \"UUM\": \"UNM\", # Unum Group\n",
    "        \"VISA\": \"V\", # Visa Inc \n",
    "    }\n",
    "    if ticker in rename_table:\n",
    "        fix = rename_table[ticker]\n",
    "    else:\n",
    "        fix = re.sub(r'[^A-Z]+', '', ticker)\n",
    "    return fix"
   ]
  },
  {
   "cell_type": "markdown",
   "metadata": {},
   "source": [
    "You'll notice I created a big dictionary `rename_table`. As mentioned before, companies will occasionally change their ticker, and it is often not well documented. I ended up manually creating this map of old to new names, which does add a component of human error."
   ]
  },
  {
   "cell_type": "markdown",
   "metadata": {},
   "source": [
    "## Compiling Data"
   ]
  },
  {
   "cell_type": "markdown",
   "metadata": {},
   "source": [
    "Now we are ready to compile all the data using our constituents list! We will also keep track of stocks we couldn't download in `skips`."
   ]
  },
  {
   "cell_type": "code",
   "execution_count": 48,
   "metadata": {},
   "outputs": [],
   "source": [
    "data = {}\n",
    "skips = set()\n",
    "\n",
    "constituents = constituents['2013-02-28':'2018-02-28']\n",
    "\n",
    "for i in range(0, len(constituents) - 1):\n",
    "    start = str(constituents.index[i].date())\n",
    "    end = str((constituents.index[i + 1].to_pydatetime() - timedelta(days=1)).date())\n",
    "    for company in constituents[i]:\n",
    "        if company in skips:\n",
    "            continue\n",
    "        df = quandl_data(company[0], start, end)\n",
    "        if df is None:\n",
    "            df = yahoo_data(company[0], start, end)\n",
    "        if df is None:\n",
    "            skips.add(company)\n",
    "            continue\n",
    "        if company[0] in data:\n",
    "            data[company[0]] = data[company[0]].append(df)\n",
    "        else:\n",
    "            data[company[0]] = df"
   ]
  },
  {
   "cell_type": "markdown",
   "metadata": {},
   "source": [
    "Lets take a look at the data we had to skip:"
   ]
  },
  {
   "cell_type": "code",
   "execution_count": 49,
   "metadata": {},
   "outputs": [
    {
     "data": {
      "text/plain": [
       "{('ACT', 'ACTAVIS INC.'),\n",
       " ('ACT', 'ACTAVIS PLC'),\n",
       " ('BLKFDS', 'BLK CSH FND TREASURY SL AGENCY'),\n",
       " ('BMC', 'BMC SOFTWARE INC.'),\n",
       " ('CVH', 'COVENTRY HEALTH CARE INC'),\n",
       " ('ESH5', 'S&P500 EMINI MAR 15'),\n",
       " ('ESH6', 'S&P500 EMINI MAR 16'),\n",
       " ('ESH7', 'S&P500 EMINI MAR 17'),\n",
       " ('ESH8', 'S&P500 EMINI MAR 18'),\n",
       " ('ESM5', 'S&P500 EMINI JUN 15'),\n",
       " ('ESM6', 'S&P500 EMINI JUN 16'),\n",
       " ('ESM7', 'S&P500 EMINI JUN 17'),\n",
       " ('ESU5', 'S&P500 EMINI SEP 15'),\n",
       " ('ESU6', 'S&P500 EMINI SEP 16'),\n",
       " ('ESU7', 'S&P500 EMINI SEP 17'),\n",
       " ('ESZ4', 'S&P500 EMINI DEC 14'),\n",
       " ('ESZ5', 'S&P500 EMINI DEC 15'),\n",
       " ('ESZ6', 'S&P500 EMINI DEC 16'),\n",
       " ('ESZ7', 'S&P500 EMINI DEC 17'),\n",
       " ('HAWKB', 'BLACKHAWK NETWORK HOLDINGS INC CLA'),\n",
       " ('MARGIN_USD', 'FUTURES USD MARGIN BALANCE'),\n",
       " ('MOLX', 'MOLEX INC.'),\n",
       " ('NYX', 'NYSE EURONEXT'),\n",
       " ('PCS', 'METROPCS COMMUNICATIONS INC.'),\n",
       " ('UBFUT', 'CASH COLLATERAL USD UBFUT')}"
      ]
     },
     "execution_count": 49,
     "metadata": {},
     "output_type": "execute_result"
    }
   ],
   "source": [
    "skips"
   ]
  },
  {
   "cell_type": "markdown",
   "metadata": {},
   "source": [
    "As we can see there are a few companies that we could not get data for because they have since been acquired. It may be possible find the data from a different source, but lets keep what we have so far. In addition, we notice that the ETF occasionally held S&P 500 futures as well as cash collateral, which is part of the <10% of holdings not in the index."
   ]
  },
  {
   "cell_type": "markdown",
   "metadata": {},
   "source": [
    "## Exporting"
   ]
  },
  {
   "cell_type": "markdown",
   "metadata": {},
   "source": [
    "Now we can export our data back into csv:"
   ]
  },
  {
   "cell_type": "code",
   "execution_count": 52,
   "metadata": {},
   "outputs": [],
   "source": [
    "for ticker, df in data.items():\n",
    "    df = df.reset_index().drop_duplicates(subset='date').set_index('date')\n",
    "    df.to_csv(f\"survivorship-free/{fix_ticker(ticker)}.csv\")\n",
    "    data[ticker] = df\n",
    "tickers = [fix_ticker(ticker) for ticker in data.keys()]\n",
    "pd.Series(tickers).to_csv(\"survivorship-free/tickers.csv\")"
   ]
  },
  {
   "cell_type": "markdown",
   "metadata": {},
   "source": [
    "# Testing"
   ]
  },
  {
   "cell_type": "markdown",
   "metadata": {},
   "source": [
    "Now that we have our survivorship bias free data, lets test it against the equal weight S&P 500 ETF RSP used in the first section:"
   ]
  },
  {
   "cell_type": "code",
   "execution_count": 56,
   "metadata": {},
   "outputs": [
    {
     "data": {
      "image/png": "[encoded data removed]",
      "text/plain": [
       "<Figure size 432x288 with 1 Axes>"
      ]
     },
     "metadata": {
      "needs_background": "light"
     },
     "output_type": "display_data"
    }
   ],
   "source": [
    "sim_rsp = (\n",
    "    (pd.concat(\n",
    "        [pd.read_csv(f\"survivorship-free/{ticker}.csv\", index_col='date', parse_dates=True)[\n",
    "            'close'\n",
    "        ].pct_change()\n",
    "        for ticker in tickers],\n",
    "        axis=1,\n",
    "        sort=True,\n",
    "    ).mean(axis=1, skipna=True) + 1)\n",
    "    .cumprod()\n",
    "    .rename(\"SIM\")\n",
    ")\n",
    "\n",
    "rsp = (\n",
    "    (web.DataReader(\"RSP\", \"yahoo\", sim_rsp.index[0], sim_rsp.index[-1])[\n",
    "        \"Adj Close\"\n",
    "    ].pct_change() + 0.002 / 252 + 1)  # 0.20% annual ER\n",
    "    .cumprod()\n",
    "    .rename(\"RSP\")\n",
    ")\n",
    "\n",
    "sim_rsp.plot(legend=True, title=\"RSP vs. Un-Survivorship-Biased Strategy\")\n",
    "rsp.plot(legend=True);"
   ]
  },
  {
   "cell_type": "markdown",
   "metadata": {},
   "source": [
    "The lines are near identical! Although my dataset is not 100% historically accurate, it is definitely a much better start than just using current S&P 500 constituents. Best of all, it only uses free data, and you can download it from my GITHUB LINK HERE. "
   ]
  }
 ],
 "metadata": {
  "kernelspec": {
   "display_name": "Python 3",
   "language": "python",
   "name": "python3"
  },
  "language_info": {
   "codemirror_mode": {
    "name": "ipython",
    "version": 3
   },
   "file_extension": ".py",
   "mimetype": "text/x-python",
   "name": "python",
   "nbconvert_exporter": "python",
   "pygments_lexer": "ipython3",
   "version": "3.7.3"
  }
 },
 "nbformat": 4,
 "nbformat_minor": 2
}
