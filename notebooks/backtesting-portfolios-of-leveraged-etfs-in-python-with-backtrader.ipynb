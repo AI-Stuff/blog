{
 "cells": [
  {
   "cell_type": "markdown",
   "metadata": {},
   "source": [
    "In my [last post](/2019/04/simulating-historical-performance-of-leveraged-etfs-in-python/) we discussed simulation of the 3x leveraged S&P 500 ETF, UPRO, and demonstrated why a 100% long UPRO portfolio may not be the best idea. In this post we will analyze the simulated historical performance of another 3x leveraged ETF, TMF, and explore a leveraged variation of Jack Bogle's 60/40 equity/bond allocation."
   ]
  },
  {
   "cell_type": "markdown",
   "metadata": {},
   "source": [
    "First lets import the libraries we need."
   ]
  },
  {
   "cell_type": "code",
   "execution_count": 2,
   "metadata": {},
   "outputs": [],
   "source": [
    "import pandas as pd\n",
    "import pandas_datareader.data as web\n",
    "import datetime\n",
    "import backtrader as bt\n",
    "%matplotlib inline"
   ]
  },
  {
   "cell_type": "markdown",
   "metadata": {},
   "source": [
    "We'll also need the `sim_leverage` function from my [last post](/2019/04/simulating-historical-performance-of-leveraged-etfs-in-python/)."
   ]
  },
  {
   "cell_type": "code",
   "execution_count": 5,
   "metadata": {},
   "outputs": [],
   "source": [
    "def sim_leverage(proxy, leverage=1, expense_ratio = 0.0, initial_value=1.0):\n",
    "    \"\"\"\n",
    "    Simulates a leverage ETF given its proxy, leverage, and expense ratio.\n",
    "    \n",
    "    Daily percent change is calculated by taking the daily percent change of\n",
    "    the proxy, subtracting the daily expense ratio, then multiplying by the leverage.\n",
    "    \"\"\"\n",
    "    pct_change = proxy.pct_change(1)\n",
    "    pct_change = (pct_change - expense_ratio / 252) * leverage\n",
    "    sim = (1 + pct_change).cumprod() * initial_value\n",
    "    sim[0] = initial_value\n",
    "    return sim"
   ]
  },
  {
   "cell_type": "markdown",
   "metadata": {},
   "source": [
    "Now we can create simulations for both UPRO and TMF using the following values:\n",
    "\n",
    "| ETF | Expense Ratio | Proxy | Proxy Inception Date |\n",
    "|-----|---------------|-------|----------------------|\n",
    "|UPRO | 0.92%         |VFINX  |  08/31/1976          |\n",
    "|TMF  | 1.09%         |VUSTX  |  05/19/1986          |\n",
    "\n",
    "We'll use 05/19/1986 as our start date as that is when we'll have data for both proxies."
   ]
  },
  {
   "cell_type": "code",
   "execution_count": 15,
   "metadata": {},
   "outputs": [],
   "source": [
    "start = datetime.datetime(1986, 5, 19)\n",
    "end = datetime.datetime(2019, 1, 1)\n",
    "\n",
    "vfinx = web.DataReader(\"VFINX\", \"yahoo\", start, end)[\"Adj Close\"]\n",
    "vustx = web.DataReader(\"VUSTX\", \"yahoo\", start, end)[\"Adj Close\"]\n",
    "\n",
    "upro_sim = sim_leverage(vfinx, leverage=3.0, expense_ratio=0.0092).to_frame(\"close\")\n",
    "tmf_sim = sim_leverage(vustx, leverage=3.0, expense_ratio=0.0109).to_frame(\"close\")"
   ]
  },
  {
   "cell_type": "markdown",
   "metadata": {},
   "source": [
    "Before we look at a multi-asset strategy, lets see how each of the assets perform with a simple buy-and-hold strategy. For backtesting our strategies, we will be using [Backtrader](https://www.backtrader.com/), a popular Python backtesting libray that also supports live trading."
   ]
  },
  {
   "cell_type": "markdown",
   "metadata": {},
   "source": [
    "In order for our data to work with Backtrader, we will have to fill in the open, high, low, and volume columns. For simplicity we will copy the close price to all columns, sinc"
   ]
  },
  {
   "cell_type": "code",
   "execution_count": 16,
   "metadata": {},
   "outputs": [],
   "source": [
    "for column in [\"open\", \"high\", \"low\"]:\n",
    "    upro_sim[column] = upro_sim[\"close\"]\n",
    "    tmf_sim[column] = tmf_sim[\"close\"]\n",
    "    \n",
    "upro_sim[\"volume\"] = 0\n",
    "tmf_sim[\"volume\"] = 0"
   ]
  },
  {
   "cell_type": "code",
   "execution_count": null,
   "metadata": {},
   "outputs": [],
   "source": []
  }
 ],
 "metadata": {
  "kernelspec": {
   "display_name": "Python 3",
   "language": "python",
   "name": "python3"
  },
  "language_info": {
   "codemirror_mode": {
    "name": "ipython",
    "version": 3
   },
   "file_extension": ".py",
   "mimetype": "text/x-python",
   "name": "python",
   "nbconvert_exporter": "python",
   "pygments_lexer": "ipython3",
   "version": "3.7.2"
  }
 },
 "nbformat": 4,
 "nbformat_minor": 2
}
